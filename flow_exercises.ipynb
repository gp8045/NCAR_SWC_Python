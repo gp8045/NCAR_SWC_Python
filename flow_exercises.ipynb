{
 "metadata": {
  "name": "flow_exercises"
 },
 "nbformat": 3,
 "nbformat_minor": 0,
 "worksheets": [
  {
   "cells": [
    {
     "cell_type": "markdown",
     "metadata": {},
     "source": [
      "## Short Exercise:\n",
      "\n",
      "Write an if statement that prints whether x is even or odd."
     ]
    },
    {
     "cell_type": "code",
     "collapsed": false,
     "input": [
      "x = 5\n",
      "### Insert your code below"
     ],
     "language": "python",
     "metadata": {},
     "outputs": []
    },
    {
     "cell_type": "markdown",
     "metadata": {},
     "source": [
      "## Factorials\n",
      "\n",
      "Using a loop, calculate the factorial of 42 (the product of all integers up to and including 42)."
     ]
    },
    {
     "cell_type": "code",
     "collapsed": false,
     "input": [
      "# Insert your code here"
     ],
     "language": "python",
     "metadata": {},
     "outputs": []
    },
    {
     "cell_type": "markdown",
     "metadata": {},
     "source": [
      "## Reading files in and looping over lines. \n",
      "\n",
      "Let's read the file 'richie.txt' but use a slow delay to reveal the amazing ascii art.\n"
     ]
    },
    {
     "cell_type": "code",
     "collapsed": false,
     "input": [
      "##Import a library\n",
      "import time\n",
      "# you'll want to use time.sleep(1) to delay the output\n",
      "# be sure to close the file when you're done.\n"
     ],
     "language": "python",
     "metadata": {},
     "outputs": []
    },
    {
     "cell_type": "markdown",
     "metadata": {},
     "source": [
      "## Longer exercises: Converting genotypes\n",
      "\n",
      "Part 1:\n",
      "Create a new list which has the converted genotype for each subject ('AA' -> 0, 'AG' -> 1, 'GG' -> 2)."
     ]
    },
    {
     "cell_type": "code",
     "collapsed": false,
     "input": [
      "genos = ['AA', 'GG', 'AG', 'AG', 'GG']"
     ],
     "language": "python",
     "metadata": {},
     "outputs": []
    },
    {
     "cell_type": "markdown",
     "metadata": {},
     "source": [
      "## Part 2: Dealing with NA's\n",
      "\n",
      "Sometimes there are errors and the genotype cannot be determined. Adapt your code from above to deal with this problem (in this example missing data is assigned NA for \"Not Available\")."
     ]
    },
    {
     "cell_type": "code",
     "collapsed": false,
     "input": [
      "genos_w_missing = ['AA', 'NA', 'GG', 'AG', 'AG', 'GG', 'NA']\n"
     ],
     "language": "python",
     "metadata": {},
     "outputs": []
    },
    {
     "cell_type": "markdown",
     "metadata": {},
     "source": [
      "## Part 3: Writing to files\n",
      "\n",
      "The file genos.txt has a column of genotypes. \n",
      "Read in the data and convert the genotypes as above.\n"
     ]
    },
    {
     "cell_type": "code",
     "collapsed": false,
     "input": [
      "# Hint: You'll need to use the built-in string method strip to remove the new-line characters \n",
      "# (the method is <string>.strip()\n"
     ],
     "language": "python",
     "metadata": {},
     "outputs": []
    }
   ],
   "metadata": {}
  }
 ]
}